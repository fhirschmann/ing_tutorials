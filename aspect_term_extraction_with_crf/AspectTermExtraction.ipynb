{
 "cells": [
  {
   "cell_type": "heading",
   "metadata": {},
   "level": 1,
   "source": [
    "Aspect Term Extraction with CRF"
   ]
  },
  {
   "cell_type": "heading",
   "metadata": {},
   "level": 2,
   "source": [
    "Make sure all packages are installed by running the first cell "
   ]
  },
  {
   "cell_type": "code",
   "execution_count": 41,
   "metadata": {
    "collapsed": true
   },
   "outputs": [],
   "source": [
    "import re\n",
    "import collections\n",
    "import nltk\n",
    "from nltk.corpus import stopwords\n",
    "from nltk.stem import SnowballStemmer\n",
    "import pandas as pd\n",
    "from sklearn import metrics\n",
    "from itertools import chain\n",
    "from collections import Counter\n",
    "\n",
    "import pycrfsuite\n",
    "from sklearn.preprocessing import LabelBinarizer"
   ]
  },
  {
   "cell_type": "heading",
   "metadata": {},
   "level": 3,
   "source": [
    "Run this cell to download nltk data if you haven't done it already"
   ]
  },
  {
   "cell_type": "code",
   "execution_count": 42,
   "metadata": {
    "collapsed": true
   },
   "outputs": [
    {
     "name": "stdout",
     "output_type": "stream",
     "text": [
      "[nltk_data] Downloading collection 'all'\n[nltk_data]    | \n[nltk_data]    | Downloading package abc to\n[nltk_data]    |     C:\\Users\\lw39km\\AppData\\Roaming\\nltk_data...\n[nltk_data]    |   Package abc is already up-to-date!\n[nltk_data]    | Downloading package alpino to\n[nltk_data]    |     C:\\Users\\lw39km\\AppData\\Roaming\\nltk_data...\n[nltk_data]    |   Package alpino is already up-to-date!\n[nltk_data]    | Downloading package biocreative_ppi to\n[nltk_data]    |     C:\\Users\\lw39km\\AppData\\Roaming\\nltk_data...\n[nltk_data]    |   Package biocreative_ppi is already up-to-date!\n[nltk_data]    | Downloading package brown to\n[nltk_data]    |     C:\\Users\\lw39km\\AppData\\Roaming\\nltk_data...\n[nltk_data]    |   Package brown is already up-to-date!\n[nltk_data]    | Downloading package brown_tei to\n[nltk_data]    |     C:\\Users\\lw39km\\AppData\\Roaming\\nltk_data...\n"
     ]
    },
    {
     "name": "stdout",
     "output_type": "stream",
     "text": [
      "[nltk_data]    |   Package brown_tei is already up-to-date!\n[nltk_data]    | Downloading package cess_cat to\n[nltk_data]    |     C:\\Users\\lw39km\\AppData\\Roaming\\nltk_data...\n"
     ]
    },
    {
     "name": "stdout",
     "output_type": "stream",
     "text": [
      "[nltk_data]    |   Package cess_cat is already up-to-date!\n[nltk_data]    | Downloading package cess_esp to\n[nltk_data]    |     C:\\Users\\lw39km\\AppData\\Roaming\\nltk_data...\n[nltk_data]    |   Package cess_esp is already up-to-date!\n[nltk_data]    | Downloading package chat80 to\n[nltk_data]    |     C:\\Users\\lw39km\\AppData\\Roaming\\nltk_data...\n[nltk_data]    |   Package chat80 is already up-to-date!\n[nltk_data]    | Downloading package city_database to\n[nltk_data]    |     C:\\Users\\lw39km\\AppData\\Roaming\\nltk_data...\n[nltk_data]    |   Package city_database is already up-to-date!\n[nltk_data]    | Downloading package cmudict to\n[nltk_data]    |     C:\\Users\\lw39km\\AppData\\Roaming\\nltk_data...\n[nltk_data]    |   Package cmudict is already up-to-date!\n[nltk_data]    | Downloading package comparative_sentences to\n[nltk_data]    |     C:\\Users\\lw39km\\AppData\\Roaming\\nltk_data...\n"
     ]
    },
    {
     "name": "stdout",
     "output_type": "stream",
     "text": [
      "[nltk_data]    |   Package comparative_sentences is already up-to-\n[nltk_data]    |       date!\n[nltk_data]    | Downloading package comtrans to\n[nltk_data]    |     C:\\Users\\lw39km\\AppData\\Roaming\\nltk_data...\n[nltk_data]    |   Package comtrans is already up-to-date!\n[nltk_data]    | Downloading package conll2000 to\n[nltk_data]    |     C:\\Users\\lw39km\\AppData\\Roaming\\nltk_data...\n[nltk_data]    |   Package conll2000 is already up-to-date!\n[nltk_data]    | Downloading package conll2002 to\n[nltk_data]    |     C:\\Users\\lw39km\\AppData\\Roaming\\nltk_data...\n[nltk_data]    |   Package conll2002 is already up-to-date!\n[nltk_data]    | Downloading package conll2007 to\n[nltk_data]    |     C:\\Users\\lw39km\\AppData\\Roaming\\nltk_data...\n[nltk_data]    |   Package conll2007 is already up-to-date!\n[nltk_data]    | Downloading package crubadan to\n[nltk_data]    |     C:\\Users\\lw39km\\AppData\\Roaming\\nltk_data...\n"
     ]
    },
    {
     "name": "stdout",
     "output_type": "stream",
     "text": [
      "[nltk_data]    |   Package crubadan is already up-to-date!\n[nltk_data]    | Downloading package dependency_treebank to\n[nltk_data]    |     C:\\Users\\lw39km\\AppData\\Roaming\\nltk_data...\n[nltk_data]    |   Package dependency_treebank is already up-to-date!\n[nltk_data]    | Downloading package dolch to\n[nltk_data]    |     C:\\Users\\lw39km\\AppData\\Roaming\\nltk_data...\n[nltk_data]    |   Package dolch is already up-to-date!\n[nltk_data]    | Downloading package europarl_raw to\n[nltk_data]    |     C:\\Users\\lw39km\\AppData\\Roaming\\nltk_data...\n[nltk_data]    |   Package europarl_raw is already up-to-date!\n[nltk_data]    | Downloading package floresta to\n[nltk_data]    |     C:\\Users\\lw39km\\AppData\\Roaming\\nltk_data...\n[nltk_data]    |   Package floresta is already up-to-date!\n[nltk_data]    | Downloading package framenet_v15 to\n[nltk_data]    |     C:\\Users\\lw39km\\AppData\\Roaming\\nltk_data...\n"
     ]
    },
    {
     "name": "stdout",
     "output_type": "stream",
     "text": [
      "[nltk_data]    |   Package framenet_v15 is already up-to-date!\n[nltk_data]    | Downloading package framenet_v17 to\n[nltk_data]    |     C:\\Users\\lw39km\\AppData\\Roaming\\nltk_data...\n"
     ]
    },
    {
     "name": "stdout",
     "output_type": "stream",
     "text": [
      "[nltk_data]    |   Package framenet_v17 is already up-to-date!\n[nltk_data]    | Downloading package gazetteers to\n[nltk_data]    |     C:\\Users\\lw39km\\AppData\\Roaming\\nltk_data...\n[nltk_data]    |   Package gazetteers is already up-to-date!\n[nltk_data]    | Downloading package genesis to\n[nltk_data]    |     C:\\Users\\lw39km\\AppData\\Roaming\\nltk_data...\n[nltk_data]    |   Package genesis is already up-to-date!\n[nltk_data]    | Downloading package gutenberg to\n[nltk_data]    |     C:\\Users\\lw39km\\AppData\\Roaming\\nltk_data...\n[nltk_data]    |   Package gutenberg is already up-to-date!\n[nltk_data]    | Downloading package ieer to\n[nltk_data]    |     C:\\Users\\lw39km\\AppData\\Roaming\\nltk_data...\n[nltk_data]    |   Package ieer is already up-to-date!\n[nltk_data]    | Downloading package inaugural to\n[nltk_data]    |     C:\\Users\\lw39km\\AppData\\Roaming\\nltk_data...\n[nltk_data]    |   Package inaugural is already up-to-date!\n[nltk_data]    | Downloading package indian to\n[nltk_data]    |     C:\\Users\\lw39km\\AppData\\Roaming\\nltk_data...\n[nltk_data]    |   Package indian is already up-to-date!\n[nltk_data]    | Downloading package jeita to\n[nltk_data]    |     C:\\Users\\lw39km\\AppData\\Roaming\\nltk_data...\n[nltk_data]    |   Package jeita is already up-to-date!\n[nltk_data]    | Downloading package kimmo to\n[nltk_data]    |     C:\\Users\\lw39km\\AppData\\Roaming\\nltk_data...\n[nltk_data]    |   Package kimmo is already up-to-date!\n[nltk_data]    | Downloading package knbc to\n[nltk_data]    |     C:\\Users\\lw39km\\AppData\\Roaming\\nltk_data...\n[nltk_data]    |   Package knbc is already up-to-date!\n[nltk_data]    | Downloading package lin_thesaurus to\n[nltk_data]    |     C:\\Users\\lw39km\\AppData\\Roaming\\nltk_data...\n"
     ]
    },
    {
     "name": "stdout",
     "output_type": "stream",
     "text": [
      "[nltk_data]    |   Package lin_thesaurus is already up-to-date!\n[nltk_data]    | Downloading package mac_morpho to\n[nltk_data]    |     C:\\Users\\lw39km\\AppData\\Roaming\\nltk_data...\n[nltk_data]    |   Package mac_morpho is already up-to-date!\n[nltk_data]    | Downloading package machado to\n[nltk_data]    |     C:\\Users\\lw39km\\AppData\\Roaming\\nltk_data...\n[nltk_data]    |   Package machado is already up-to-date!\n[nltk_data]    | Downloading package masc_tagged to\n[nltk_data]    |     C:\\Users\\lw39km\\AppData\\Roaming\\nltk_data...\n[nltk_data]    |   Package masc_tagged is already up-to-date!\n[nltk_data]    | Downloading package moses_sample to\n[nltk_data]    |     C:\\Users\\lw39km\\AppData\\Roaming\\nltk_data...\n[nltk_data]    |   Package moses_sample is already up-to-date!\n[nltk_data]    | Downloading package movie_reviews to\n[nltk_data]    |     C:\\Users\\lw39km\\AppData\\Roaming\\nltk_data...\n"
     ]
    },
    {
     "name": "stdout",
     "output_type": "stream",
     "text": [
      "[nltk_data]    |   Package movie_reviews is already up-to-date!\n[nltk_data]    | Downloading package names to\n[nltk_data]    |     C:\\Users\\lw39km\\AppData\\Roaming\\nltk_data...\n[nltk_data]    |   Package names is already up-to-date!\n[nltk_data]    | Downloading package nombank.1.0 to\n[nltk_data]    |     C:\\Users\\lw39km\\AppData\\Roaming\\nltk_data...\n[nltk_data]    |   Package nombank.1.0 is already up-to-date!\n[nltk_data]    | Downloading package nps_chat to\n[nltk_data]    |     C:\\Users\\lw39km\\AppData\\Roaming\\nltk_data...\n[nltk_data]    |   Package nps_chat is already up-to-date!\n[nltk_data]    | Downloading package omw to\n[nltk_data]    |     C:\\Users\\lw39km\\AppData\\Roaming\\nltk_data...\n[nltk_data]    |   Package omw is already up-to-date!\n[nltk_data]    | Downloading package opinion_lexicon to\n[nltk_data]    |     C:\\Users\\lw39km\\AppData\\Roaming\\nltk_data...\n[nltk_data]    |   Package opinion_lexicon is already up-to-date!\n[nltk_data]    | Downloading package paradigms to\n[nltk_data]    |     C:\\Users\\lw39km\\AppData\\Roaming\\nltk_data...\n[nltk_data]    |   Package paradigms is already up-to-date!\n[nltk_data]    | Downloading package pil to\n[nltk_data]    |     C:\\Users\\lw39km\\AppData\\Roaming\\nltk_data...\n"
     ]
    },
    {
     "name": "stdout",
     "output_type": "stream",
     "text": [
      "[nltk_data]    |   Package pil is already up-to-date!\n[nltk_data]    | Downloading package pl196x to\n[nltk_data]    |     C:\\Users\\lw39km\\AppData\\Roaming\\nltk_data...\n[nltk_data]    |   Package pl196x is already up-to-date!\n[nltk_data]    | Downloading package ppattach to\n[nltk_data]    |     C:\\Users\\lw39km\\AppData\\Roaming\\nltk_data...\n[nltk_data]    |   Package ppattach is already up-to-date!\n[nltk_data]    | Downloading package problem_reports to\n[nltk_data]    |     C:\\Users\\lw39km\\AppData\\Roaming\\nltk_data...\n[nltk_data]    |   Package problem_reports is already up-to-date!\n[nltk_data]    | Downloading package propbank to\n[nltk_data]    |     C:\\Users\\lw39km\\AppData\\Roaming\\nltk_data...\n[nltk_data]    |   Package propbank is already up-to-date!\n[nltk_data]    | Downloading package ptb to\n[nltk_data]    |     C:\\Users\\lw39km\\AppData\\Roaming\\nltk_data...\n[nltk_data]    |   Package ptb is already up-to-date!\n[nltk_data]    | Downloading package product_reviews_1 to\n[nltk_data]    |     C:\\Users\\lw39km\\AppData\\Roaming\\nltk_data...\n[nltk_data]    |   Package product_reviews_1 is already up-to-date!\n[nltk_data]    | Downloading package product_reviews_2 to\n[nltk_data]    |     C:\\Users\\lw39km\\AppData\\Roaming\\nltk_data...\n[nltk_data]    |   Package product_reviews_2 is already up-to-date!\n[nltk_data]    | Downloading package pros_cons to\n[nltk_data]    |     C:\\Users\\lw39km\\AppData\\Roaming\\nltk_data...\n[nltk_data]    |   Package pros_cons is already up-to-date!\n[nltk_data]    | Downloading package qc to\n[nltk_data]    |     C:\\Users\\lw39km\\AppData\\Roaming\\nltk_data...\n[nltk_data]    |   Package qc is already up-to-date!\n[nltk_data]    | Downloading package reuters to\n[nltk_data]    |     C:\\Users\\lw39km\\AppData\\Roaming\\nltk_data...\n[nltk_data]    |   Package reuters is already up-to-date!\n[nltk_data]    | Downloading package rte to\n[nltk_data]    |     C:\\Users\\lw39km\\AppData\\Roaming\\nltk_data...\n[nltk_data]    |   Package rte is already up-to-date!\n[nltk_data]    | Downloading package semcor to\n[nltk_data]    |     C:\\Users\\lw39km\\AppData\\Roaming\\nltk_data...\n[nltk_data]    |   Package semcor is already up-to-date!"
     ]
    },
    {
     "name": "stdout",
     "output_type": "stream",
     "text": [
      "\n[nltk_data]    | Downloading package senseval to\n[nltk_data]    |     C:\\Users\\lw39km\\AppData\\Roaming\\nltk_data...\n[nltk_data]    |   Package senseval is already up-to-date!\n[nltk_data]    | Downloading package sentiwordnet to\n[nltk_data]    |     C:\\Users\\lw39km\\AppData\\Roaming\\nltk_data...\n[nltk_data]    |   Package sentiwordnet is already up-to-date!\n[nltk_data]    | Downloading package sentence_polarity to\n[nltk_data]    |     C:\\Users\\lw39km\\AppData\\Roaming\\nltk_data...\n[nltk_data]    |   Package sentence_polarity is already up-to-date!\n[nltk_data]    | Downloading package shakespeare to\n[nltk_data]    |     C:\\Users\\lw39km\\AppData\\Roaming\\nltk_data...\n[nltk_data]    |   Package shakespeare is already up-to-date!\n[nltk_data]    | Downloading package sinica_treebank to\n[nltk_data]    |     C:\\Users\\lw39km\\AppData\\Roaming\\nltk_data...\n[nltk_data]    |   Package sinica_treebank is already up-to-date!\n[nltk_data]    | Downloading package smultron to\n[nltk_data]    |     C:\\Users\\lw39km\\AppData\\Roaming\\nltk_data...\n[nltk_data]    |   Package smultron is already up-to-date!\n[nltk_data]    | Downloading package state_union to\n[nltk_data]    |     C:\\Users\\lw39km\\AppData\\Roaming\\nltk_data...\n[nltk_data]    |   Package state_union is already up-to-date!\n[nltk_data]    | Downloading package stopwords to\n[nltk_data]    |     C:\\Users\\lw39km\\AppData\\Roaming\\nltk_data...\n[nltk_data]    |   Package stopwords is already up-to-date!\n[nltk_data]    | Downloading package subjectivity to\n[nltk_data]    |     C:\\Users\\lw39km\\AppData\\Roaming\\nltk_data...\n[nltk_data]    |   Package subjectivity is already up-to-date!\n[nltk_data]    | Downloading package swadesh to\n[nltk_data]    |     C:\\Users\\lw39km\\AppData\\Roaming\\nltk_data...\n[nltk_data]    |   Package swadesh is already up-to-date!\n[nltk_data]    | Downloading package switchboard to\n[nltk_data]    |     C:\\Users\\lw39km\\AppData\\Roaming\\nltk_data...\n[nltk_data]    |   Package switchboard is already up-to-date!\n[nltk_data]    | Downloading package timit to\n[nltk_data]    |     C:\\Users\\lw39km\\AppData\\Roaming\\nltk_data...\n"
     ]
    },
    {
     "name": "stdout",
     "output_type": "stream",
     "text": [
      "[nltk_data]    |   Package timit is already up-to-date!\n[nltk_data]    | Downloading package toolbox to\n[nltk_data]    |     C:\\Users\\lw39km\\AppData\\Roaming\\nltk_data...\n[nltk_data]    |   Package toolbox is already up-to-date!\n[nltk_data]    | Downloading package treebank to\n[nltk_data]    |     C:\\Users\\lw39km\\AppData\\Roaming\\nltk_data...\n[nltk_data]    |   Package treebank is already up-to-date!\n[nltk_data]    | Downloading package twitter_samples to\n[nltk_data]    |     C:\\Users\\lw39km\\AppData\\Roaming\\nltk_data...\n"
     ]
    },
    {
     "name": "stdout",
     "output_type": "stream",
     "text": [
      "[nltk_data]    |   Package twitter_samples is already up-to-date!\n[nltk_data]    | Downloading package udhr to\n[nltk_data]    |     C:\\Users\\lw39km\\AppData\\Roaming\\nltk_data...\n[nltk_data]    |   Package udhr is already up-to-date!\n[nltk_data]    | Downloading package udhr2 to\n[nltk_data]    |     C:\\Users\\lw39km\\AppData\\Roaming\\nltk_data...\n"
     ]
    },
    {
     "name": "stdout",
     "output_type": "stream",
     "text": [
      "[nltk_data]    |   Package udhr2 is already up-to-date!\n[nltk_data]    | Downloading package unicode_samples to\n[nltk_data]    |     C:\\Users\\lw39km\\AppData\\Roaming\\nltk_data...\n[nltk_data]    |   Package unicode_samples is already up-to-date!\n[nltk_data]    | Downloading package universal_treebanks_v20 to\n[nltk_data]    |     C:\\Users\\lw39km\\AppData\\Roaming\\nltk_data...\n[nltk_data]    |   Package universal_treebanks_v20 is already up-to-\n[nltk_data]    |       date!\n[nltk_data]    | Downloading package verbnet to\n[nltk_data]    |     C:\\Users\\lw39km\\AppData\\Roaming\\nltk_data...\n[nltk_data]    |   Package verbnet is already up-to-date!\n[nltk_data]    | Downloading package webtext to\n[nltk_data]    |     C:\\Users\\lw39km\\AppData\\Roaming\\nltk_data...\n[nltk_data]    |   Package webtext is already up-to-date!\n[nltk_data]    | Downloading package wordnet to\n[nltk_data]    |     C:\\Users\\lw39km\\AppData\\Roaming\\nltk_data...\n"
     ]
    },
    {
     "name": "stdout",
     "output_type": "stream",
     "text": [
      "[nltk_data]    |   Package wordnet is already up-to-date!\n[nltk_data]    | Downloading package wordnet_ic to\n[nltk_data]    |     C:\\Users\\lw39km\\AppData\\Roaming\\nltk_data...\n[nltk_data]    |   Package wordnet_ic is already up-to-date!\n[nltk_data]    | Downloading package words to\n[nltk_data]    |     C:\\Users\\lw39km\\AppData\\Roaming\\nltk_data...\n[nltk_data]    |   Package words is already up-to-date!\n[nltk_data]    | Downloading package ycoe to\n[nltk_data]    |     C:\\Users\\lw39km\\AppData\\Roaming\\nltk_data...\n[nltk_data]    |   Package ycoe is already up-to-date!\n[nltk_data]    | Downloading package rslp to\n[nltk_data]    |     C:\\Users\\lw39km\\AppData\\Roaming\\nltk_data...\n[nltk_data]    |   Package rslp is already up-to-date!\n[nltk_data]    | Downloading package maxent_treebank_pos_tagger to\n[nltk_data]    |     C:\\Users\\lw39km\\AppData\\Roaming\\nltk_data...\n[nltk_data]    |   Package maxent_treebank_pos_tagger is already up-\n[nltk_data]    |       to-date!\n[nltk_data]    | Downloading package universal_tagset to\n[nltk_data]    |     C:\\Users\\lw39km\\AppData\\Roaming\\nltk_data...\n[nltk_data]    |   Package universal_tagset is already up-to-date!\n[nltk_data]    | Downloading package maxent_ne_chunker to\n[nltk_data]    |     C:\\Users\\lw39km\\AppData\\Roaming\\nltk_data...\n[nltk_data]    |   Package maxent_ne_chunker is already up-to-date!\n[nltk_data]    | Downloading package punkt to\n[nltk_data]    |     C:\\Users\\lw39km\\AppData\\Roaming\\nltk_data...\n"
     ]
    },
    {
     "name": "stdout",
     "output_type": "stream",
     "text": [
      "[nltk_data]    |   Package punkt is already up-to-date!\n[nltk_data]    | Downloading package book_grammars to\n[nltk_data]    |     C:\\Users\\lw39km\\AppData\\Roaming\\nltk_data...\n[nltk_data]    |   Package book_grammars is already up-to-date!\n[nltk_data]    | Downloading package sample_grammars to\n[nltk_data]    |     C:\\Users\\lw39km\\AppData\\Roaming\\nltk_data...\n[nltk_data]    |   Package sample_grammars is already up-to-date!\n[nltk_data]    | Downloading package spanish_grammars to\n[nltk_data]    |     C:\\Users\\lw39km\\AppData\\Roaming\\nltk_data...\n[nltk_data]    |   Package spanish_grammars is already up-to-date!\n[nltk_data]    | Downloading package basque_grammars to\n[nltk_data]    |     C:\\Users\\lw39km\\AppData\\Roaming\\nltk_data...\n[nltk_data]    |   Package basque_grammars is already up-to-date!\n[nltk_data]    | Downloading package large_grammars to\n[nltk_data]    |     C:\\Users\\lw39km\\AppData\\Roaming\\nltk_data...\n[nltk_data]    |   Package large_grammars is already up-to-date!\n[nltk_data]    | Downloading package tagsets to\n[nltk_data]    |     C:\\Users\\lw39km\\AppData\\Roaming\\nltk_data...\n[nltk_data]    |   Package tagsets is already up-to-date!\n[nltk_data]    | Downloading package snowball_data to\n[nltk_data]    |     C:\\Users\\lw39km\\AppData\\Roaming\\nltk_data...\n[nltk_data]    |   Package snowball_data is already up-to-date!\n[nltk_data]    | Downloading package bllip_wsj_no_aux to\n[nltk_data]    |     C:\\Users\\lw39km\\AppData\\Roaming\\nltk_data...\n[nltk_data]    |   Package bllip_wsj_no_aux is already up-to-date!\n[nltk_data]    | Downloading package word2vec_sample to\n[nltk_data]    |     C:\\Users\\lw39km\\AppData\\Roaming\\nltk_data...\n"
     ]
    },
    {
     "name": "stdout",
     "output_type": "stream",
     "text": [
      "[nltk_data]    |   Package word2vec_sample is already up-to-date!\n[nltk_data]    | Downloading package panlex_swadesh to\n[nltk_data]    |     C:\\Users\\lw39km\\AppData\\Roaming\\nltk_data...\n[nltk_data]    |   Package panlex_swadesh is already up-to-date!\n[nltk_data]    | Downloading package mte_teip5 to\n[nltk_data]    |     C:\\Users\\lw39km\\AppData\\Roaming\\nltk_data...\n[nltk_data]    |   Package mte_teip5 is already up-to-date!\n[nltk_data]    | Downloading package averaged_perceptron_tagger to\n[nltk_data]    |     C:\\Users\\lw39km\\AppData\\Roaming\\nltk_data...\n[nltk_data]    |   Package averaged_perceptron_tagger is already up-\n[nltk_data]    |       to-date!\n[nltk_data]    | Downloading package perluniprops to\n[nltk_data]    |     C:\\Users\\lw39km\\AppData\\Roaming\\nltk_data...\n[nltk_data]    |   Package perluniprops is already up-to-date!\n[nltk_data]    | Downloading package nonbreaking_prefixes to\n[nltk_data]    |     C:\\Users\\lw39km\\AppData\\Roaming\\nltk_data...\n[nltk_data]    |   Package nonbreaking_prefixes is already up-to-date!\n[nltk_data]    | Downloading package vader_lexicon to\n[nltk_data]    |     C:\\Users\\lw39km\\AppData\\Roaming\\nltk_data...\n[nltk_data]    |   Package vader_lexicon is already up-to-date!\n[nltk_data]    | Downloading package porter_test to\n[nltk_data]    |     C:\\Users\\lw39km\\AppData\\Roaming\\nltk_data...\n[nltk_data]    |   Package porter_test is already up-to-date!\n[nltk_data]    | Downloading package wmt15_eval to\n[nltk_data]    |     C:\\Users\\lw39km\\AppData\\Roaming\\nltk_data...\n[nltk_data]    |   Package wmt15_eval is already up-to-date!\n[nltk_data]    | Downloading package mwa_ppdb to\n[nltk_data]    |     C:\\Users\\lw39km\\AppData\\Roaming\\nltk_data...\n[nltk_data]    |   Package mwa_ppdb is already up-to-date!\n[nltk_data]    | \n[nltk_data]  Done downloading collection all\n"
     ]
    },
    {
     "data": {
      "text/plain": [
       "True"
      ]
     },
     "execution_count": 42,
     "metadata": {},
     "output_type": "execute_result"
    }
   ],
   "source": [
    "nltk.download('all') #or just 'stopwords' and 'snowball_data' instead of 'all'"
   ]
  },
  {
   "cell_type": "heading",
   "metadata": {},
   "level": 3,
   "source": [
    "Use English stop words and snowball stem"
   ]
  },
  {
   "cell_type": "code",
   "execution_count": 43,
   "metadata": {},
   "outputs": [],
   "source": [
    "stops = set(stopwords.words(\"english\"))\n",
    "stemmer = SnowballStemmer('english')"
   ]
  },
  {
   "cell_type": "heading",
   "metadata": {},
   "level": 3,
   "source": [
    "Run these two cell to make sure you have the data"
   ]
  },
  {
   "cell_type": "code",
   "execution_count": 44,
   "metadata": {},
   "outputs": [
    {
     "data": {
      "text/html": [
       "<div>\n",
       "<style>\n",
       "    .dataframe thead tr:only-child th {\n",
       "        text-align: right;\n",
       "    }\n",
       "\n",
       "    .dataframe thead th {\n",
       "        text-align: left;\n",
       "    }\n",
       "\n",
       "    .dataframe tbody tr th {\n",
       "        vertical-align: top;\n",
       "    }\n",
       "</style>\n",
       "<table border=\"1\" class=\"dataframe\">\n",
       "  <thead>\n",
       "    <tr style=\"text-align: right;\">\n",
       "      <th></th>\n",
       "      <th>review</th>\n",
       "      <th>terms</th>\n",
       "    </tr>\n",
       "  </thead>\n",
       "  <tbody>\n",
       "    <tr>\n",
       "      <th>0</th>\n",
       "      <td>i charge it at night and skip taking the cord ...</td>\n",
       "      <td>cord,battery life</td>\n",
       "    </tr>\n",
       "    <tr>\n",
       "      <th>1</th>\n",
       "      <td>i bought a hp pavilion dv4-1222nr laptop and h...</td>\n",
       "      <td>NaN</td>\n",
       "    </tr>\n",
       "    <tr>\n",
       "      <th>2</th>\n",
       "      <td>which be the retail shop which i bought my net...</td>\n",
       "      <td>NaN</td>\n",
       "    </tr>\n",
       "    <tr>\n",
       "      <th>3</th>\n",
       "      <td>the tech guy then said the service center does...</td>\n",
       "      <td>service center, sales team,tech guy</td>\n",
       "    </tr>\n",
       "    <tr>\n",
       "      <th>4</th>\n",
       "      <td>i investigated netbooks and saw the toshiba nb...</td>\n",
       "      <td>NaN</td>\n",
       "    </tr>\n",
       "  </tbody>\n",
       "</table>\n",
       "</div>"
      ],
      "text/plain": [
       "<div>\n",
       "<style>\n",
       "    .dataframe thead tr:only-child th {\n",
       "        text-align: right;\n",
       "    }\n",
       "\n",
       "    .dataframe thead th {\n",
       "        text-align: left;\n",
       "    }\n",
       "\n",
       "    .dataframe tbody tr th {\n",
       "        vertical-align: top;\n",
       "    }\n",
       "</style>\n",
       "<table border=\"1\" class=\"dataframe\">\n",
       "  <thead>\n",
       "    <tr style=\"text-align: right;\">\n",
       "      <th></th>\n",
       "      <th>review</th>\n",
       "      <th>terms</th>\n",
       "    </tr>\n",
       "  </thead>\n",
       "  <tbody>\n",
       "    <tr>\n",
       "      <th>0</th>\n",
       "      <td>i charge it at night and skip taking the cord ...</td>\n",
       "      <td>cord,battery life</td>\n",
       "    </tr>\n",
       "    <tr>\n",
       "      <th>1</th>\n",
       "      <td>i bought a hp pavilion dv4-1222nr laptop and h...</td>\n",
       "      <td>NaN</td>\n",
       "    </tr>\n",
       "    <tr>\n",
       "      <th>2</th>\n",
       "      <td>which be the retail shop which i bought my net...</td>\n",
       "      <td>NaN</td>\n",
       "    </tr>\n",
       "    <tr>\n",
       "      <th>3</th>\n",
       "      <td>the tech guy then said the service center does...</td>\n",
       "      <td>service center, sales team,tech guy</td>\n",
       "    </tr>\n",
       "    <tr>\n",
       "      <th>4</th>\n",
       "      <td>i investigated netbooks and saw the toshiba nb...</td>\n",
       "      <td>NaN</td>\n",
       "    </tr>\n",
       "  </tbody>\n",
       "</table>\n",
       "</div>"
      ]
     },
     "execution_count": 44,
     "metadata": {},
     "output_type": "execute_result"
    }
   ],
   "source": [
    "pd.read_csv(\"data/cleaned_train.csv\").head()"
   ]
  },
  {
   "cell_type": "code",
   "execution_count": 45,
   "metadata": {},
   "outputs": [
    {
     "data": {
      "text/html": [
       "<div>\n",
       "<style>\n",
       "    .dataframe thead tr:only-child th {\n",
       "        text-align: right;\n",
       "    }\n",
       "\n",
       "    .dataframe thead th {\n",
       "        text-align: left;\n",
       "    }\n",
       "\n",
       "    .dataframe tbody tr th {\n",
       "        vertical-align: top;\n",
       "    }\n",
       "</style>\n",
       "<table border=\"1\" class=\"dataframe\">\n",
       "  <thead>\n",
       "    <tr style=\"text-align: right;\">\n",
       "      <th></th>\n",
       "      <th>review</th>\n",
       "      <th>terms</th>\n",
       "    </tr>\n",
       "  </thead>\n",
       "  <tbody>\n",
       "    <tr>\n",
       "      <th>0</th>\n",
       "      <td>i charge it at night and skip taking the cord ...</td>\n",
       "      <td>O,O,O,O,O,O,O,O,BB,B,EB,O,O,O,BB,BB,B,I</td>\n",
       "    </tr>\n",
       "    <tr>\n",
       "      <th>1</th>\n",
       "      <td>i bought a hp pavilion dv4-1222nr laptop and h...</td>\n",
       "      <td>O,O,O,O,O,O,O,O,O,O,O,O,O,O,O,O</td>\n",
       "    </tr>\n",
       "    <tr>\n",
       "      <th>2</th>\n",
       "      <td>which be the retail shop which i bought my net...</td>\n",
       "      <td>O,O,O,O,O,O,O,O,O,O,O</td>\n",
       "    </tr>\n",
       "    <tr>\n",
       "      <th>3</th>\n",
       "      <td>the tech guy then said the service center does...</td>\n",
       "      <td>BB,B,I,EI,O,BB,B,I,EI,O,O,O,O,O,O,O,O,O,O,O,O,...</td>\n",
       "    </tr>\n",
       "    <tr>\n",
       "      <th>4</th>\n",
       "      <td>i investigated netbooks and saw the toshiba nb...</td>\n",
       "      <td>O,O,O,O,O,O,O,O</td>\n",
       "    </tr>\n",
       "  </tbody>\n",
       "</table>\n",
       "</div>"
      ],
      "text/plain": [
       "<div>\n",
       "<style>\n",
       "    .dataframe thead tr:only-child th {\n",
       "        text-align: right;\n",
       "    }\n",
       "\n",
       "    .dataframe thead th {\n",
       "        text-align: left;\n",
       "    }\n",
       "\n",
       "    .dataframe tbody tr th {\n",
       "        vertical-align: top;\n",
       "    }\n",
       "</style>\n",
       "<table border=\"1\" class=\"dataframe\">\n",
       "  <thead>\n",
       "    <tr style=\"text-align: right;\">\n",
       "      <th></th>\n",
       "      <th>review</th>\n",
       "      <th>terms</th>\n",
       "    </tr>\n",
       "  </thead>\n",
       "  <tbody>\n",
       "    <tr>\n",
       "      <th>0</th>\n",
       "      <td>i charge it at night and skip taking the cord ...</td>\n",
       "      <td>O,O,O,O,O,O,O,O,BB,B,EB,O,O,O,BB,BB,B,I</td>\n",
       "    </tr>\n",
       "    <tr>\n",
       "      <th>1</th>\n",
       "      <td>i bought a hp pavilion dv4-1222nr laptop and h...</td>\n",
       "      <td>O,O,O,O,O,O,O,O,O,O,O,O,O,O,O,O</td>\n",
       "    </tr>\n",
       "    <tr>\n",
       "      <th>2</th>\n",
       "      <td>which be the retail shop which i bought my net...</td>\n",
       "      <td>O,O,O,O,O,O,O,O,O,O,O</td>\n",
       "    </tr>\n",
       "    <tr>\n",
       "      <th>3</th>\n",
       "      <td>the tech guy then said the service center does...</td>\n",
       "      <td>BB,B,I,EI,O,BB,B,I,EI,O,O,O,O,O,O,O,O,O,O,O,O,...</td>\n",
       "    </tr>\n",
       "    <tr>\n",
       "      <th>4</th>\n",
       "      <td>i investigated netbooks and saw the toshiba nb...</td>\n",
       "      <td>O,O,O,O,O,O,O,O</td>\n",
       "    </tr>\n",
       "  </tbody>\n",
       "</table>\n",
       "</div>"
      ]
     },
     "execution_count": 45,
     "metadata": {},
     "output_type": "execute_result"
    }
   ],
   "source": [
    "pd.read_csv(\"data/final_train.csv\").head()"
   ]
  },
  {
   "cell_type": "heading",
   "metadata": {},
   "level": 2,
   "source": [
    "Now define feature funtions"
   ]
  },
  {
   "cell_type": "heading",
   "metadata": {},
   "level": 3,
   "source": [
    "Feature function for single token:"
   ]
  },
  {
   "cell_type": "code",
   "execution_count": 58,
   "metadata": {},
   "outputs": [],
   "source": [
    "def word2features(sent, i):\n",
    "    \"\"\"\n",
    "    build CRF feature for i th word in sentance\n",
    "    :param sent: the sentence\n",
    "    :param i: index of the desired word\n",
    "    :return: list of strings as features\n",
    "    \"\"\"\n",
    "    #features for current word\n",
    "    word = sent[i][0]\n",
    "    postag = sent[i][1]\n",
    "    features = [\n",
    "        'bias',\n",
    "        'word.lower=' + word.lower(),\n",
    "        'word.stem=' + stemmer.stem(word),\n",
    "        'word[:1]=' + word[:1],\n",
    "        'word[:2]=' + word[:2],\n",
    "        'word[:3]=' + word[:3],\n",
    "        'word[-3:]=' + word[-3:],\n",
    "        'word[-2:]=' + word[-2:],\n",
    "        'word[-1:]=' + word[-1:],\n",
    "        'word.isupper=%s' % word.isupper(),\n",
    "        'word.istitle=%s' % word.istitle(),\n",
    "        'word.isdigit=%s' % word.isdigit(),\n",
    "        'word.isstop=%s' % (word in stops),\n",
    "        'word.length=%s' % len(word),\n",
    "        #'word.long=%s' % (len(word) >= 5),\n",
    "        'postag=' + postag,\n",
    "        'postag[:2]=' + postag[:2]\n",
    "    ]\n",
    "    if i > 0:\n",
    "        #features for previous word\n",
    "        word1 = sent[i - 1][0]\n",
    "        postag1 = sent[i - 1][1]\n",
    "        features.extend([\n",
    "            '-1:word.lower=' + word1.lower(),\n",
    "            '-1:word.stem=' + stemmer.stem(word1),\n",
    "            '-1:word.istitle=%s' % word1.istitle(),\n",
    "            '-1:word.isupper=%s' % word1.isupper(),\n",
    "            '-1:word.length=%s' % len(word1),\n",
    "            '-1:word.isstop=%s' % (word1 in stops),\n",
    "            '-1:postag=' + postag1,\n",
    "            '-1:postag[:2]=' + postag1[:2],\n",
    "        ])\n",
    "    else:\n",
    "        # no previous, then it's beginning of sentence\n",
    "        features.append('BOS')\n",
    "\n",
    "    if i < len(sent) - 1:\n",
    "        #features for next word\n",
    "        word1 = sent[i + 1][0]\n",
    "        postag1 = sent[i + 1][1]\n",
    "        features.extend([\n",
    "            '+1:word.lower=' + word1.lower(),\n",
    "            '+1:word.stem=' + stemmer.stem(word1),\n",
    "            '+1:word.istitle=%s' % word1.istitle(),\n",
    "            '+1:word.isupper=%s' % word1.isupper(),\n",
    "            '+1:word.length=%s' % len(word1),\n",
    "            '+1:word.isstop=%s' % (word1 in stops),\n",
    "            '+1:postag=' + postag1,\n",
    "            '+1:postag[:2]=' + postag1[:2],\n",
    "        ])\n",
    "    else:\n",
    "        #if no next, then it's end of sentence\n",
    "        features.append('EOS')\n",
    "\n",
    "    return features"
   ]
  },
  {
   "cell_type": "heading",
   "metadata": {},
   "level": 3,
   "source": [
    "Feature function for one sentence, and label splitor"
   ]
  },
  {
   "cell_type": "code",
   "execution_count": 59,
   "metadata": {},
   "outputs": [],
   "source": [
    "def sent2features(sent):\n",
    "    \"\"\"\n",
    "    build feature list for sentence\n",
    "    :param sent: ...\n",
    "    :return: list of CRF word features\n",
    "    \"\"\"\n",
    "    return [word2features(sent, i) for i in range(len(sent))]\n",
    "\n",
    "\n",
    "def sent2labels(terms):\n",
    "    \"\"\"\n",
    "    build labels for sentence\n",
    "    :param terms: the terms for the disired sentence\n",
    "    :return: 2D list of labels shape is [sentence * word]\n",
    "    \"\"\"\n",
    "    return [label for label in terms.split(',')]"
   ]
  },
  {
   "cell_type": "heading",
   "metadata": {},
   "level": 3,
   "source": [
    "Function to add frequent terms feature"
   ]
  },
  {
   "cell_type": "code",
   "execution_count": 60,
   "metadata": {},
   "outputs": [],
   "source": [
    "def add_frequent_terms_to_feature(X, cleaned_fn, top_num=100):\n",
    "    \"\"\"\n",
    "    Add 'if the current word is in the top (top_num) frequent\n",
    "    aspect terms from training data' in features\n",
    "    :param X: the 2D list of word features, shape: [sentence * word]\n",
    "    :param cleaned_fn: the cleaned csv filename\n",
    "    :param top_num: as name\n",
    "    :return:\n",
    "    \"\"\"\n",
    "    df = pd.read_csv(cleaned_fn)\n",
    "    df_train = pd.read_csv(\"data/cleaned_train.csv\")\n",
    "    terms_list = df_train['terms'].apply(lambda row: re.split(\"[ ,;:(]\", str(row)))\n",
    "\n",
    "    terms_list = [item for sublist in terms_list for item in sublist]\n",
    "    frequent_terms = list(dict(collections.Counter(terms_list).most_common(top_num)).keys())\n",
    "\n",
    "\n",
    "    doc = list(df['review'].apply(lambda review: review.split()))\n",
    "\n",
    "    for i, sentence_feature in enumerate(X):\n",
    "        for j, word_feature in enumerate(sentence_feature):\n",
    "            if (not doc[i][j] in stops) and (doc[i][j] in frequent_terms):\n",
    "                word_feature.append(\"{}_FRQ_TERM\".format(top_num))\n",
    "\n",
    "    return X"
   ]
  },
  {
   "cell_type": "heading",
   "metadata": {},
   "level": 3,
   "source": [
    "Function to generate X and y from data"
   ]
  },
  {
   "cell_type": "code",
   "execution_count": 61,
   "metadata": {},
   "outputs": [],
   "source": [
    "def constructSemanticInput(cleaned_fn):\n",
    "    \"\"\"\n",
    "    construct semantic inputs for modelling\n",
    "    :param tagged_fn: tagged csv filename\n",
    "    :param cleaned_fn: cleaned csv filename\n",
    "    :return: (X, y)\n",
    "    \"\"\"\n",
    "    df = pd.read_csv(cleaned_fn)\n",
    "    sentences = df['review'].apply(lambda review: nltk.pos_tag(review.split()))\n",
    "\n",
    "    X = [sent2features(s) for s in sentences]\n",
    "    y = [sent2labels(term) for term in df['terms']]\n",
    "\n",
    "    #add if it is frequent aspect term to feature\n",
    "    #add_frequent_terms_to_feature(X, cleaned_fn, top_num=200)\n",
    "    add_frequent_terms_to_feature(X, cleaned_fn)\n",
    "    add_frequent_terms_to_feature(X, cleaned_fn, top_num=50)\n",
    "    add_frequent_terms_to_feature(X, cleaned_fn, top_num=10)\n",
    "\n",
    "\n",
    "    return X, y"
   ]
  },
  {
   "cell_type": "heading",
   "metadata": {},
   "level": 3,
   "source": [
    "Generate X and y for both training data and test data"
   ]
  },
  {
   "cell_type": "code",
   "execution_count": 62,
   "metadata": {},
   "outputs": [],
   "source": [
    "X_train, y_train = constructSemanticInput(\"data/final_train.csv\")\n",
    "X_test, y_test = constructSemanticInput(\"data/final_test.csv\")"
   ]
  },
  {
   "cell_type": "heading",
   "metadata": {},
   "level": 3,
   "source": [
    "Check what X and y looks like:"
   ]
  },
  {
   "cell_type": "code",
   "execution_count": 63,
   "metadata": {},
   "outputs": [
    {
     "name": "stdout",
     "output_type": "stream",
     "text": [
      "Features:  ['bias', 'word.lower=battery', 'word.stem=batteri', 'word[:1]=b', 'word[:2]=ba', 'word[:3]=bat', 'word[-3:]=ery', 'word[-2:]=ry', 'word[-1:]=y', 'word.isupper=False', 'word.istitle=False', 'word.isdigit=False', 'word.isstop=False', 'word.length=7', 'postag=NN', 'postag[:2]=NN', '-1:word.lower=good', '-1:word.stem=good', '-1:word.istitle=False', '-1:word.isupper=False', '-1:word.length=4', '-1:word.isstop=False', '-1:postag=JJ', '-1:postag[:2]=JJ', '+1:word.lower=life', '+1:word.stem=life', '+1:word.istitle=False', '+1:word.isupper=False', '+1:word.length=4', '+1:word.isstop=False', '+1:postag=NN', '+1:postag[:2]=NN', '100_FRQ_TERM', '50_FRQ_TERM', '10_FRQ_TERM']\nTag:  B\n"
     ]
    }
   ],
   "source": [
    "print(\"Features: \", X_train[0][16]) #check the feature and tag for 'battery'\n",
    "print(\"Tag: \", y_train[0][16])"
   ]
  },
  {
   "cell_type": "heading",
   "metadata": {},
   "level": 2,
   "source": [
    "Build the Class for CRF, including fit and predict method, as well as some info output"
   ]
  },
  {
   "cell_type": "code",
   "execution_count": 64,
   "metadata": {},
   "outputs": [],
   "source": [
    "class CRFClassifier:\n",
    "    def __init__(self, c1=1.0, c2=1e-3, max_iterations=50):\n",
    "        \"\"\"\n",
    "        make a Classifier class that has similar interface of sklearn for easy benchmark\n",
    "        :param c1: coefficient for L1 penalty\n",
    "        :param c2: coefficient for L2 penalty\n",
    "        :param max_iterations: for early stop\n",
    "        \"\"\"\n",
    "        self.clf = None\n",
    "        self.params = {\n",
    "            #'c1': c1,\n",
    "            #'c2': c2,\n",
    "            'max_iterations': max_iterations,\n",
    "\n",
    "            # include transitions that are possible, but not observed\n",
    "            'feature.possible_transitions': True\n",
    "        }\n",
    "\n",
    "\n",
    "    def fit(self, X_train, y_train):\n",
    "        \"\"\"\n",
    "        like sklearn\n",
    "        :param X_train:\n",
    "        :param y_train:\n",
    "        :return:\n",
    "        \"\"\"\n",
    "        trainer = pycrfsuite.Trainer(verbose=True, algorithm='ap')\n",
    "\n",
    "        for xseq, yseq in zip(X_train, y_train):\n",
    "            trainer.append(xseq, yseq)\n",
    "\n",
    "        trainer.set_params(self.params)\n",
    "        print(trainer.get_params())\n",
    "        trainer.train('crf_model.crfsuite')\n",
    "\n",
    "    def predict(self, X_test):\n",
    "        \"\"\"\n",
    "        like sklearn\n",
    "        :param X_test:\n",
    "        :return: predictions\n",
    "        \"\"\"\n",
    "        tagger = pycrfsuite.Tagger()\n",
    "        tagger.open('crf_model.crfsuite')\n",
    "\n",
    "        y_pred = [tagger.tag(xseq) for xseq in X_test]\n",
    "        return y_pred\n",
    "\n",
    "    def learned_transitions(self, top_num=15):\n",
    "        \"\"\"\n",
    "        print and return top (top_num) learned transitions\n",
    "        :param top_num:\n",
    "        :return:\n",
    "        \"\"\"\n",
    "        def print_transitions(trans_features):\n",
    "            for (label_from, label_to), weight in trans_features:\n",
    "                print(\"%-6s -> %-7s %0.6f\" % (label_from, label_to, weight))\n",
    "\n",
    "        tagger = pycrfsuite.Tagger()\n",
    "        tagger.open('crf_model.crfsuite')\n",
    "\n",
    "        info = tagger.info()\n",
    "\n",
    "        print(\"Top likely transitions:\")\n",
    "        top = Counter(info.transitions).most_common(top_num)\n",
    "        print_transitions(top)\n",
    "\n",
    "        print(\"\\nTop unlikely transitions:\")\n",
    "        bottom = Counter(info.transitions).most_common()[-top_num:]\n",
    "        print_transitions(bottom)\n",
    "\n",
    "        return top, bottom\n",
    "\n",
    "    def state_features(self, top_num=20):\n",
    "        \"\"\"\n",
    "        print and return top (top_num) state features\n",
    "        :param top_num:\n",
    "        :return:\n",
    "        \"\"\"\n",
    "        def print_state_features(state_features):\n",
    "            for (attr, label), weight in state_features:\n",
    "                print(\"%0.6f %-6s %s\" % (weight, label, attr))\n",
    "\n",
    "        tagger = pycrfsuite.Tagger()\n",
    "        tagger.open('crf_model.crfsuite')\n",
    "\n",
    "        info = tagger.info()\n",
    "\n",
    "        print(\"Top positive:\")\n",
    "        top = Counter(info.state_features).most_common(top_num)\n",
    "        print_state_features(top)\n",
    "\n",
    "        print(\"\\nTop negative:\")\n",
    "        bottom = Counter(info.state_features).most_common()[-top_num:]\n",
    "        print_state_features(bottom)\n",
    "\n",
    "        return top, bottom"
   ]
  },
  {
   "cell_type": "heading",
   "metadata": {},
   "level": 3,
   "source": [
    "Function to print classification report"
   ]
  },
  {
   "cell_type": "code",
   "execution_count": 65,
   "metadata": {},
   "outputs": [],
   "source": [
    "def bio_classification_report(y_true, y_pred):\n",
    "    \"\"\"\n",
    "    Classification report for a list of BIO-encoded sequences.\n",
    "    It computes token-level metrics.\n",
    "    \"\"\"\n",
    "    lb = LabelBinarizer()\n",
    "    y_true_combined = lb.fit_transform(list(chain.from_iterable(y_true)))\n",
    "    y_pred_combined = lb.transform(list(chain.from_iterable(y_pred)))\n",
    "\n",
    "    tagset = set(lb.classes_)\n",
    "    tagset = sorted(tagset, key=lambda tag: tag.split('-', 1)[::-1])\n",
    "    class_indices = {cls: idx for idx, cls in enumerate(lb.classes_)}\n",
    "\n",
    "    return metrics.classification_report(\n",
    "        y_true_combined,\n",
    "        y_pred_combined,\n",
    "        labels=[class_indices[cls] for cls in tagset],\n",
    "        target_names=tagset,\n",
    "    )"
   ]
  },
  {
   "cell_type": "heading",
   "metadata": {},
   "level": 3,
   "source": [
    "Fit and Predict"
   ]
  },
  {
   "cell_type": "code",
   "execution_count": 66,
   "metadata": {
    "collapsed": true
   },
   "outputs": [
    {
     "name": "stdout",
     "output_type": "stream",
     "text": [
      "{'feature.minfreq': 0.0, 'feature.possible_states': False, 'feature.possible_transitions': True, 'max_iterations': 50, 'epsilon': 0.0}\nFeature generation\ntype: CRF1d\nfeature.minfreq: 0.000000\nfeature.possible_states: 0\nfeature.possible_transitions: 1\n0....1....2....3..."
     ]
    },
    {
     "name": "stdout",
     "output_type": "stream",
     "text": [
      ".4....5....6..."
     ]
    },
    {
     "name": "stdout",
     "output_type": "stream",
     "text": [
      ".7....8....9....10\nNumber of features: 37560\nSeconds required: 0.353\n\nAveraged perceptron\nmax_iterations: 50\nepsilon: 0.000000\n\n***** Iteration #1 *****\nLoss: 685.314039\nFeature norm: 275.787552\nSeconds required for this iteration: 0.080\n\n***** Iteration #2 *****\nLoss: 548.485490\nFeature norm: 352.017527\nSeconds required for this iteration: 0.069\n\n***** Iteration #3 *****\nLoss: 484.741735\nFeature norm: 412.635814\nSeconds required for this iteration: 0.062\n\n***** Iteration #4 *****\nLoss: 455.382677\nFeature norm: 465.605268\nSeconds required for this iteration: 0.065\n\n***** Iteration #5 *****\nLoss: 432.565617\nFeature norm: 514.104758\nSeconds required for this iteration: 0.074\n\n***** Iteration #6 *****\nLoss: 383.784892\nFeature norm: 557.424348\nSeconds required for this iteration: 0.067\n\n***** Iteration #7 *****\nLoss: 384.044702\nFeature norm: 596.933777\nSeconds required for this iteration: 0.076\n\n***** Iteration #8 *****\nLoss: 359.264724\nFeature norm: 633.505280\nSeconds required for this iteration: 0.082\n\n***** Iteration #9 *****\nLoss: 342.753499\nFeature norm: 668.740927\nSeconds required for this iteration: 0.063\n\n***** Iteration #10 *****\nLoss: 313.765166\nFeature norm: 701.623772\nSeconds required for this iteration: 0.065\n\n***** Iteration #11 *****\nLoss: 334.106304\nFeature norm: 732.953079\nSeconds required for this iteration: 0.058\n\n***** Iteration #12 *****\nLoss: 316.277907\nFeature norm: 763.013793\nSeconds required for this iteration: 0.076\n\n***** Iteration #13 *****\nLoss: 310.538015\nFeature norm: 791.855999\nSeconds required for this iteration: 0.068\n\n***** Iteration #14 *****\nLoss: 288.449798\nFeature norm: 819.321425\nSeconds required for this iteration: 0.075\n\n***** Iteration #15 *****\nLoss: 287.991627\nFeature norm: 845.995056\nSeconds required for this iteration: 0.081\n\n***** Iteration #16 *****\nLoss: 263.647422\nFeature norm: 871.639984\nSeconds required for this iteration: 0.077\n\n***** Iteration #17 *****\nLoss: 275.049654\nFeature norm: 896.377297\nSeconds required for this iteration: 0.052\n\n***** Iteration #18 *****\nLoss: 249.913600\nFeature norm: 920.127685\nSeconds required for this iteration: 0.065\n\n***** Iteration #19 *****\nLoss: 255.543888\nFeature norm: 943.075497\nSeconds required for this iteration: 0.053\n\n***** Iteration #20 *****\nLoss: 248.068085\nFeature norm: 965.340215\nSeconds required for this iteration: 0.058\n\n***** Iteration #21 *****\nLoss: 237.449507\nFeature norm: 986.805688\nSeconds required for this iteration: 0.069\n\n***** Iteration #22 *****\nLoss: 239.165512\nFeature norm: 1007.598936\nSeconds required for this iteration: 0.068\n\n***** Iteration #23 *****\nLoss: 242.850834\nFeature norm: 1027.917664\nSeconds required for this iteration: 0.073\n\n***** Iteration #24 *****\nLoss: 221.639681\nFeature norm: 1047.721598\nSeconds required for this iteration: 0.067\n\n***** Iteration #25 *****\nLoss: 233.553010\nFeature norm: 1066.945221\nSeconds required for this iteration: 0.061\n\n***** Iteration #26 *****\nLoss: 232.335359\nFeature norm: 1085.706381\nSeconds required for this iteration: 0.054\n\n***** Iteration #27 *****\nLoss: 209.730964\nFeature norm: 1103.950595\nSeconds required for this iteration: 0.062\n\n***** Iteration #28 *****\nLoss: 217.551748\nFeature norm: 1121.720444\nSeconds required for this iteration: 0.055\n\n***** Iteration #29 *****\nLoss: 203.236959\nFeature norm: 1139.049426\nSeconds required for this iteration: 0.059\n\n***** Iteration #30 *****\nLoss: 202.373678\nFeature norm: 1155.946934\nSeconds required for this iteration: 0.073\n\n***** Iteration #31 *****\nLoss: 221.773436\nFeature norm: 1172.445567\nSeconds required for this iteration: 0.062\n\n***** Iteration #32 *****\nLoss: 208.100441\nFeature norm: 1188.716839\nSeconds required for this iteration: 0.071\n\n***** Iteration #33 *****\nLoss: 191.733677\nFeature norm: 1204.650571\nSeconds required for this iteration: 0.071\n\n***** Iteration #34 *****\nLoss: 200.845662\nFeature norm: 1220.189142\nSeconds required for this iteration: 0.052\n\n***** Iteration #35 *****\nLoss: 193.308415\nFeature norm: 1235.475036\nSeconds required for this iteration: 0.068\n\n***** Iteration #36 *****\nLoss: 174.014698\nFeature norm: 1250.414961\nSeconds required for this iteration: 0.053\n\n***** Iteration #37 *****\nLoss: 195.520919\nFeature norm: 1265.048149\nSeconds required for this iteration: 0.055\n\n***** Iteration #38 *****\nLoss: 189.629776\nFeature norm: 1279.495326\nSeconds required for this iteration: 0.074\n\n***** Iteration #39 *****\nLoss: 177.621794\nFeature norm: 1293.634608\nSeconds required for this iteration: 0.068\n\n***** Iteration #40 *****\nLoss: 174.392359\nFeature norm: 1307.439656\nSeconds required for this iteration: 0.066\n\n***** Iteration #41 *****\nLoss: 185.084734\nFeature norm: 1321.022981\nSeconds required for this iteration: 0.073\n\n***** Iteration #42 *****\nLoss: 176.285008\nFeature norm: 1334.366961\nSeconds required for this iteration: 0.055\n\n***** Iteration #43 *****\nLoss: 183.916935\nFeature norm: 1347.477953\nSeconds required for this iteration: 0.053\n\n***** Iteration #44 *****\nLoss: 164.022350\nFeature norm: 1360.350599\nSeconds required for this iteration: 0.056\n\n***** Iteration #45 *****\nLoss: 159.020638\nFeature norm: 1372.945622\nSeconds required for this iteration: 0.052\n\n***** Iteration #46 *****\nLoss: 186.229184\nFeature norm: 1385.371907\nSeconds required for this iteration: 0.052\n\n***** Iteration #47 *****\nLoss: 155.649426\nFeature norm: 1397.610575\nSeconds required for this iteration: 0.064\n\n***** Iteration #48 *****\nLoss: 167.008863\nFeature norm: 1409.627334\nSeconds required for this iteration: 0.076\n\n***** Iteration #49 *****\nLoss: 159.660046\nFeature norm: 1421.428163\nSeconds required for this iteration: 0.074\n\n***** Iteration #50 *****\nLoss: 157.164738\nFeature norm: 1433.045097\nSeconds required for this iteration: 0.069\n\nTotal seconds required for training: 3.277\n\nStoring the model\nNumber of active features: 33127 (37560)\nNumber of active attributes: 20022 (24356)\nNumber of active labels: 6 (6)\nWriting labels\nWriting attributes\nWriting feature references for transitions\nWriting feature references for attributes\nSeconds required: 0.051\n\n"
     ]
    }
   ],
   "source": [
    "crf = CRFClassifier()\n",
    "crf.fit(X_train, y_train)\n",
    "pred = crf.predict(X_test)"
   ]
  },
  {
   "cell_type": "heading",
   "metadata": {},
   "level": 3,
   "source": [
    "Print classification report:"
   ]
  },
  {
   "cell_type": "code",
   "execution_count": 67,
   "metadata": {},
   "outputs": [
    {
     "name": "stdout",
     "output_type": "stream",
     "text": [
      "             precision    recall  f1-score   support\n\n          B       0.87      0.67      0.76       652\n         BB       0.81      0.60      0.69       547\n         EB       0.77      0.61      0.68       266\n         EI       0.83      0.53      0.65       171\n          I       0.93      0.54      0.68       414\n          O       0.92      0.99      0.95      8367\n\navg / total       0.91      0.91      0.90     10417\n\n"
     ]
    }
   ],
   "source": [
    "print(bio_classification_report(y_test, pred))"
   ]
  },
  {
   "cell_type": "heading",
   "metadata": {},
   "level": 3,
   "source": [
    "Print Top likely and unlikely transitions that CRF learned:"
   ]
  },
  {
   "cell_type": "code",
   "execution_count": 68,
   "metadata": {},
   "outputs": [
    {
     "name": "stdout",
     "output_type": "stream",
     "text": [
      "Top likely transitions:\nB      -> I       79.619560\nBB     -> B       59.729808\nI      -> I       58.590410\nI      -> EI      56.745375\nB      -> EB      54.623753\nO      -> O       43.473488\nO      -> BB      31.168927\nEB     -> O       26.905282\nEI     -> O       26.555195\nEI     -> BB      18.496297\nEB     -> BB      17.585893\nO      -> EB      11.661120\nO      -> EI      11.302425\nBB     -> O       9.638521\nEI     -> B       -0.215197\n\nTop unlikely transitions:\nEB     -> EI      -15.159377\nBB     -> I       -16.963591\nBB     -> EI      -17.278464\nB      -> EI      -17.288708\nI      -> BB      -21.164356\nEB     -> I       -21.793924\nBB     -> EB      -22.065458\nB      -> B       -22.754303\nI      -> EB      -26.977708\nEI     -> I       -29.416167\nO      -> B       -29.775190\nB      -> BB      -44.856615\nB      -> O       -50.731111\nI      -> O       -51.740098\nO      -> I       -66.555687\n"
     ]
    }
   ],
   "source": [
    "top_trans, bottom_trans = crf.learned_transitions()"
   ]
  },
  {
   "cell_type": "heading",
   "metadata": {},
   "level": 3,
   "source": [
    "Print Top likely and unlikely state features that CRF learned:"
   ]
  },
  {
   "cell_type": "code",
   "execution_count": 69,
   "metadata": {},
   "outputs": [
    {
     "name": "stdout",
     "output_type": "stream",
     "text": [
      "Top positive:\n74.848714 B      100_FRQ_TERM\n71.263186 I      100_FRQ_TERM\n44.337993 I      +1:word.lower=hook\n42.984794 I      +1:word.stem=hook\n41.628580 O      -1:word.lower=computer\n40.942927 B      word[-3:]=ges\n39.610473 B      word.stem=surf\n38.654594 B      word.isstop=False\n38.306210 I      -1:word.lower=easy\n38.306210 I      -1:word.stem=easi\n38.012759 B      +1:word.lower=have\n37.927073 B      word[:2]=iw\n37.764206 B      -1:word.stem=use\n37.494674 O      -1:word.stem=book\n37.185100 BB     +1:word.lower=vista\n37.185100 BB     +1:word.stem=vista\n37.021972 B      +1:word.stem=have\n36.993776 I      +1:word.lower=resolution\n36.598559 I      -1:word.lower=virus\n36.597041 EB     -1:word.stem=applic\n\nTop negative:\n-30.937401 O      word.stem=surf\n-31.379464 O      -1:word.stem=size\n-31.465494 O      +1:word.lower=shipped\n-32.160041 O      +1:word.stem=featur\n-32.294557 B      word[-2:]=st\n-32.800989 O      +1:word.stem=applic\n-33.899546 O      +1:word.stem=connect\n-34.574228 B      word[:2]=ne\n-34.734808 O      word[-2:]=am\n-35.457311 O      -1:word.lower=easy\n-35.457311 O      -1:word.stem=easi\n-35.489275 O      -1:word.lower=plug\n-36.170197 B      +1:word.stem=laptop\n-38.235533 B      word.length=1\n-38.597903 B      word.stem=comput\n-39.663853 O      word.stem=price\n-40.820043 BB     100_FRQ_TERM\n-45.710733 B      word.isstop=True\n-50.096938 O      -1:word.stem=tech\n-61.226038 O      100_FRQ_TERM\n"
     ]
    }
   ],
   "source": [
    "top_stats, bottom_stats = crf.state_features()"
   ]
  },
  {
   "cell_type": "code",
   "execution_count": null,
   "metadata": {},
   "outputs": [],
   "source": []
  }
 ],
 "metadata": {
  "kernelspec": {
   "display_name": "Python 2",
   "language": "python",
   "name": "python2"
  },
  "language_info": {
   "codemirror_mode": {
    "name": "ipython",
    "version": 2
   },
   "file_extension": ".py",
   "mimetype": "text/x-python",
   "name": "python",
   "nbconvert_exporter": "python",
   "pygments_lexer": "ipython2",
   "version": "2.7.6"
  }
 },
 "nbformat": 4,
 "nbformat_minor": 0
}
