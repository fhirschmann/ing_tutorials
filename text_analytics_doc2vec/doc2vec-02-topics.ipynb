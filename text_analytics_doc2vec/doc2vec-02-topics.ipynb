{
 "cells": [
  {
   "cell_type": "markdown",
   "metadata": {},
   "source": [
    "# Generate topics by clustering documents"
   ]
  },
  {
   "cell_type": "code",
   "execution_count": 89,
   "metadata": {},
   "outputs": [],
   "source": [
    "import os\n",
    "import numpy as np\n",
    "from gensim.models import doc2vec\n",
    "from gensim.utils import simple_preprocess\n",
    "from nltk.cluster import kmeans\n",
    "from nltk.cluster import util\n",
    "import collections"
   ]
  },
  {
   "cell_type": "code",
   "execution_count": 90,
   "metadata": {},
   "outputs": [],
   "source": [
    "# generic settings\n",
    "HOMEDIR = './'"
   ]
  },
  {
   "cell_type": "code",
   "execution_count": 91,
   "metadata": {},
   "outputs": [],
   "source": [
    "CORPUS_FILE = os.path.join(HOMEDIR, \"data/train_docs.txt\")\n",
    "MODEL_FILE = os.path.join(HOMEDIR, \"models/doc2vec_dbow_v20171229.bin\")\n",
    "\n",
    "NUM_CLUSTERS = 20"
   ]
  },
  {
   "cell_type": "markdown",
   "metadata": {},
   "source": [
    "### Read corpus file and parse into token lists"
   ]
  },
  {
   "cell_type": "code",
   "execution_count": 92,
   "metadata": {},
   "outputs": [],
   "source": [
    "with open(CORPUS_FILE, 'r', encoding='utf-8') as f:\n",
    "    lines = f.readlines()\n",
    "    docs = [simple_preprocess(line, deacc=False, min_len=1) for line in lines]"
   ]
  },
  {
   "cell_type": "markdown",
   "metadata": {},
   "source": [
    "### Read existing model and score the corpus"
   ]
  },
  {
   "cell_type": "code",
   "execution_count": 93,
   "metadata": {},
   "outputs": [],
   "source": [
    "# load pre-trained model\n",
    "model = doc2vec.Doc2Vec.load(MODEL_FILE)\n",
    "model.delete_temporary_training_data(keep_doctags_vectors=True, keep_inference=True)"
   ]
  },
  {
   "cell_type": "code",
   "execution_count": 94,
   "metadata": {},
   "outputs": [],
   "source": [
    "# infer document vectors\n",
    "docvecs = [model.infer_vector(d, alpha=0.01, steps=1000) for d in docs]"
   ]
  },
  {
   "cell_type": "markdown",
   "metadata": {},
   "source": [
    "## Now we have document vectors, start clustering"
   ]
  },
  {
   "cell_type": "code",
   "execution_count": 95,
   "metadata": {},
   "outputs": [],
   "source": [
    "clusterer = kmeans.KMeansClusterer(NUM_CLUSTERS, distance=util.cosine_distance, repeats=3)"
   ]
  },
  {
   "cell_type": "code",
   "execution_count": 96,
   "metadata": {},
   "outputs": [],
   "source": [
    "cluster_assignments = clusterer.cluster(docvecs, assign_clusters=True)"
   ]
  },
  {
   "cell_type": "code",
   "execution_count": 97,
   "metadata": {},
   "outputs": [
    {
     "data": {
      "text/plain": [
       "Counter({0: 31,\n",
       "         1: 68,\n",
       "         2: 6,\n",
       "         3: 53,\n",
       "         4: 34,\n",
       "         5: 106,\n",
       "         6: 75,\n",
       "         7: 80,\n",
       "         8: 48,\n",
       "         9: 20,\n",
       "         10: 45,\n",
       "         11: 47,\n",
       "         12: 30,\n",
       "         13: 75,\n",
       "         14: 23,\n",
       "         15: 28,\n",
       "         16: 32,\n",
       "         17: 111,\n",
       "         18: 32,\n",
       "         19: 56})"
      ]
     },
     "execution_count": 97,
     "metadata": {},
     "output_type": "execute_result"
    }
   ],
   "source": [
    "# how many documents per cluster?\n",
    "collections.Counter(cluster_assignments)"
   ]
  },
  {
   "cell_type": "code",
   "execution_count": 98,
   "metadata": {},
   "outputs": [],
   "source": [
    "def get_documents_in_cluster(cluster_idx):\n",
    "    return [doc for i, doc in enumerate(docs) if cluster_assignments[i] == cluster_idx]"
   ]
  },
  {
   "cell_type": "code",
   "execution_count": 99,
   "metadata": {},
   "outputs": [],
   "source": [
    "def get_document_topics(doc_vec, topic_vecs):\n",
    "    \"\"\"\n",
    "    For a given document, give the topic distribution (softmax probabilities for all topics)\n",
    "    \"\"\"\n",
    "    similarities = [np.dot(doc_vec, topic_vec) for topic_vec in topic_vecs]\n",
    "    return np.exp(similarities) / np.sum(np.exp(similarities))"
   ]
  },
  {
   "cell_type": "code",
   "execution_count": 100,
   "metadata": {},
   "outputs": [],
   "source": [
    "topic_vecs = clusterer.means()"
   ]
  },
  {
   "cell_type": "markdown",
   "metadata": {},
   "source": [
    "# Visualize topics using t-SNE"
   ]
  },
  {
   "cell_type": "code",
   "execution_count": 101,
   "metadata": {},
   "outputs": [],
   "source": [
    "from sklearn.manifold import TSNE\n",
    "import bokeh.plotting as bp\n",
    "from bokeh.models import HoverTool\n",
    "from bokeh.io import push_notebook, output_notebook, show"
   ]
  },
  {
   "cell_type": "code",
   "execution_count": 102,
   "metadata": {},
   "outputs": [
    {
     "data": {
      "text/plain": [
       "(1000, 2)"
      ]
     },
     "execution_count": 102,
     "metadata": {},
     "output_type": "execute_result"
    }
   ],
   "source": [
    "docs_tsne = TSNE(n_components=2, perplexity=30, init='pca').fit_transform(docvecs)\n",
    "docs_tsne.shape"
   ]
  },
  {
   "cell_type": "code",
   "execution_count": 103,
   "metadata": {},
   "outputs": [],
   "source": [
    "# create matrix with topic proportion per doc per topic\n",
    "doc_topic_matrix = [get_document_topics(docvec, topic_vecs) for docvec in docvecs]\n",
    "# select highest topic prob\n",
    "prob_max_topic = np.max(doc_topic_matrix, axis=1)"
   ]
  },
  {
   "cell_type": "code",
   "execution_count": 104,
   "metadata": {},
   "outputs": [],
   "source": [
    "# 20 colors\n",
    "colormap = np.array([\n",
    "    \"#1f77b4\", \"#aec7e8\", \"#ff7f0e\", \"#ffbb78\", \"#2ca02c\",\n",
    "    \"#98df8a\", \"#d62728\", \"#ff9896\", \"#9467bd\", \"#c5b0d5\",\n",
    "    \"#8c564b\", \"#c49c94\", \"#e377c2\", \"#f7b6d2\", \"#7f7f7f\",\n",
    "    \"#c7c7c7\", \"#bcbd22\", \"#dbdb8d\", \"#17becf\", \"#9edae5\"\n",
    "])"
   ]
  },
  {
   "cell_type": "code",
   "execution_count": 105,
   "metadata": {},
   "outputs": [],
   "source": [
    "sourcedata = {\n",
    "    'x': docs_tsne[:, 0],\n",
    "    'y': docs_tsne[:, 1],\n",
    "    'color': colormap[cluster_assignments],\n",
    "    'alpha': prob_max_topic * 50,\n",
    "    'content': lines,\n",
    "    'topic_key': cluster_assignments\n",
    "}"
   ]
  },
  {
   "cell_type": "markdown",
   "metadata": {},
   "source": [
    "### Make and show the plot"
   ]
  },
  {
   "cell_type": "code",
   "execution_count": 106,
   "metadata": {},
   "outputs": [],
   "source": [
    "tsne_plot = bp.figure(plot_width=1600, plot_height=900,\n",
    "                      title=\"Topics\",\n",
    "                      tools=\"pan,wheel_zoom,box_zoom,reset,hover,previewsave\",\n",
    "                      x_axis_type=None, y_axis_type=None, min_border=1)\n",
    "\n",
    "tsne_plot.scatter(x='x', \n",
    "                  y='y',\n",
    "                  color='color',\n",
    "                  size='alpha',\n",
    "                  #size=10,\n",
    "                  source=bp.ColumnDataSource(sourcedata)\n",
    "                 )\n",
    "\n",
    "# add hover tooltips\n",
    "hover = tsne_plot.select(dict(type=HoverTool))\n",
    "hover.tooltips = {\"content\": \"@content - topic: @topic_key\"}\n",
    "\n",
    "show(tsne_plot)"
   ]
  }
 ],
 "metadata": {
  "kernelspec": {
   "display_name": "Python 3",
   "language": "python",
   "name": "python3"
  },
  "language_info": {
   "codemirror_mode": {
    "name": "ipython",
    "version": 3
   },
   "file_extension": ".py",
   "mimetype": "text/x-python",
   "name": "python",
   "nbconvert_exporter": "python",
   "pygments_lexer": "ipython3",
   "version": "3.5.4"
  }
 },
 "nbformat": 4,
 "nbformat_minor": 2
}
