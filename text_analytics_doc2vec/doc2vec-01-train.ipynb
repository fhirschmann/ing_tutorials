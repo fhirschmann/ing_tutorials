{
 "cells": [
  {
   "cell_type": "markdown",
   "metadata": {},
   "source": [
    "## doc2vec training excercise"
   ]
  },
  {
   "cell_type": "markdown",
   "metadata": {},
   "source": [
    "In this excercise, you will train a Paragraph Vectors / doc2vec model using gensim. You can find information on the gensim doc2vec api here: https://radimrehurek.com/gensim/models/doc2vec.html\n",
    "\n",
    "N.B. You should be using Python 3 for this."
   ]
  },
  {
   "cell_type": "markdown",
   "metadata": {},
   "source": [
    "The data folder contains a train and test set with small sets of documents from the \"20 newsgroups\" dataset."
   ]
  },
  {
   "cell_type": "markdown",
   "metadata": {},
   "source": [
    "What we're going to do is the following:\n",
    "* Read a dataset with documents\n",
    "* Transform each document into a list of tokens (words)\n",
    "* Train a doc2vec model (DM)\n",
    "* Train a second model (DBOW)\n",
    "* Inspect the outcomes a bit"
   ]
  },
  {
   "cell_type": "code",
   "execution_count": 1,
   "metadata": {},
   "outputs": [],
   "source": [
    "import os\n",
    "from gensim.models import doc2vec\n",
    "from gensim.utils import simple_preprocess"
   ]
  },
  {
   "cell_type": "code",
   "execution_count": 2,
   "metadata": {},
   "outputs": [],
   "source": [
    "# generic settings\n",
    "HOMEDIR = './'\n",
    "CORPUS_FILE = os.path.join(HOMEDIR, \"data/train_docs.txt\")\n",
    "\n",
    "# file names for the models we'll be creating\n",
    "MODEL_FILE_DM = os.path.join(HOMEDIR, \"models/doc2vec_DM_v20171229.bin\")\n",
    "MODEL_FILE_DBOW = os.path.join(HOMEDIR, \"models/doc2vec_DBOW_v20171229.bin\")"
   ]
  },
  {
   "cell_type": "markdown",
   "metadata": {},
   "source": [
    "**Read the corpus. Each line is a document / paragraph. Optionally preprocess it first.**"
   ]
  },
  {
   "cell_type": "code",
   "execution_count": 3,
   "metadata": {},
   "outputs": [],
   "source": [
    "flg_preprocess = False\n",
    "\n",
    "if flg_preprocess:\n",
    "    # quick & simple approach\n",
    "    docs = doc2vec.TaggedLineDocument(CORPUS_FILE)\n",
    "else:\n",
    "    # with pre-processing\n",
    "    with open(CORPUS_FILE, 'r', encoding='utf-8') as f:\n",
    "        lines = f.readlines()\n",
    "        docs = [simple_preprocess(line, deacc=False, min_len=1) for line in lines]\n",
    "        docs = [doc2vec.TaggedDocument(doc, tags=[i]) for i, doc in enumerate(docs)]"
   ]
  },
  {
   "cell_type": "code",
   "execution_count": 5,
   "metadata": {},
   "outputs": [
    {
     "data": {
      "text/plain": [
       "TaggedDocument(words=['anarchism', 'is', 'a', 'political', 'philosophy', 'that', 'advocates', 'self', 'governed', 'societies', 'with', 'voluntary', 'institutions', 'these', 'are', 'often', 'described', 'as', 'stateless', 'societies', 'but', 'several', 'authors', 'have', 'defined', 'them', 'more', 'specifically', 'as', 'institutions', 'based', 'on', 'non', 'hierarchical', 'free', 'associations', 'anarchism', 'holds', 'the', 'state', 'to', 'be', 'undesirable', 'unnecessary', 'or', 'harmful', 'while', 'anti', 'statism', 'is', 'central', 'anarchism', 'entails', 'opposing', 'authority', 'or', 'hierarchical', 'organisation', 'in', 'the', 'conduct', 'of', 'human', 'relations', 'including', 'but', 'not', 'limited', 'to', 'the', 'state', 'system'], tags=[0])"
      ]
     },
     "execution_count": 5,
     "metadata": {},
     "output_type": "execute_result"
    }
   ],
   "source": [
    "# have a look at the data\n",
    "docs[0]"
   ]
  },
  {
   "cell_type": "markdown",
   "metadata": {},
   "source": [
    "## Training a DM (Distributed Memory) model"
   ]
  },
  {
   "cell_type": "code",
   "execution_count": 6,
   "metadata": {},
   "outputs": [],
   "source": [
    "# train DM model\n",
    "model_dm = doc2vec.Doc2Vec(docs, \n",
    "                           size=200, # vector size, should be the same size as pre-trained embedding size when not using dm_concat\n",
    "                           window=10, # window size for word context, on each side\n",
    "                           min_count=1, # minimum nr. of occurrences of a word\n",
    "                           sample=1e-5, # threshold for undersampling high-frequency words\n",
    "                           workers=4, # for multicore processing\n",
    "                           hs=0, # if 1, use hierarchical softmax; if 0, use negative sampling\n",
    "                           dm=1, # if 1 use PV-DM, if 0 use PM-DBOW\n",
    "                           negative=5, # how many words to use for negative sampling\n",
    "                           dbow_words=1, # train word vectors\n",
    "                           dm_concat=1, # concatenate vectors or sum/average them?\n",
    "                           iter=100 # nr of epochs to train\n",
    "                          )"
   ]
  },
  {
   "cell_type": "code",
   "execution_count": 7,
   "metadata": {},
   "outputs": [],
   "source": [
    "# save it for later use\n",
    "model_dm.save(MODEL_FILE_DM)"
   ]
  },
  {
   "cell_type": "markdown",
   "metadata": {},
   "source": [
    "## Training a DBOW (Distributed Bag Of Words) model"
   ]
  },
  {
   "cell_type": "markdown",
   "metadata": {
    "solution": "shown",
    "solution_first": true
   },
   "source": [
    "**_Excercise 1: Train a DBOW model_**\n",
    "\n",
    "It's very similar to the previous command. What should you change?"
   ]
  },
  {
   "cell_type": "code",
   "execution_count": null,
   "metadata": {
    "solution": "shown",
    "solution2": "hidden",
    "solution2_first": true
   },
   "outputs": [],
   "source": [
    "# train DBOW model\n",
    "...enter your code here..."
   ]
  },
  {
   "cell_type": "code",
   "execution_count": 8,
   "metadata": {
    "solution": "shown",
    "solution2": "hidden"
   },
   "outputs": [],
   "source": [
    "# solution\n",
    "model_dbow = doc2vec.Doc2Vec(docs, \n",
    "                            size=200, # vector size, should be the same size as pre-trained embedding size when not using dm_concat\n",
    "                            window=10, # window size for word context, on each side\n",
    "                            min_count=1, # minimum nr. of occurrences of a word\n",
    "                            sample=1e-5, # threshold for undersampling high-frequency words\n",
    "                            workers=4, # for multicore processing\n",
    "                            hs=0, # if 1, use hierarchical softmax; if 0, use negative sampling\n",
    "                            dm=0, # if 1 use PV-DM, if 0 use PM-DBOW\n",
    "                            negative=5, # how many words to use for negative sampling\n",
    "                            dbow_words=1, # train word vectors\n",
    "                            iter=100 # nr of epochs to train\n",
    "                            )"
   ]
  },
  {
   "cell_type": "markdown",
   "metadata": {},
   "source": [
    "========= END OF EXERCISE ============"
   ]
  },
  {
   "cell_type": "code",
   "execution_count": 9,
   "metadata": {},
   "outputs": [],
   "source": [
    "# also save this one\n",
    "model_dbow.save(MODEL_FILE_DBOW)"
   ]
  },
  {
   "cell_type": "markdown",
   "metadata": {},
   "source": [
    "## **Question: Look at the model files that are now created in the models directory. Can you explain why there are 2 files for the DM model, but only 1 for the DBOW model?**"
   ]
  },
  {
   "cell_type": "code",
   "execution_count": 17,
   "metadata": {},
   "outputs": [],
   "source": [
    "def show_most_similar(model, docs, ref_doc_id):\n",
    "    \"\"\"\n",
    "    For a given document, display the most similar ones in the corpus\n",
    "    \"\"\"\n",
    "    def print_doc(doc_id):\n",
    "        doc_txt = ' '.join(docs[doc_id].words)\n",
    "        print(\"[Doc {}]: {}\".format(doc_id, doc_txt))\n",
    "        \n",
    "    print(\"[Original document]\")\n",
    "    print_doc(ref_doc_id)\n",
    "    print(\"\\n[Most similar documents]\")\n",
    "    for doc_id, similarity in model.docvecs.most_similar(ref_doc_id, topn=3):\n",
    "        print(\"-----------------\")\n",
    "        print(\"similarity: {}\".format(similarity))\n",
    "        print_doc(doc_id)\n"
   ]
  },
  {
   "cell_type": "code",
   "execution_count": 18,
   "metadata": {},
   "outputs": [
    {
     "name": "stdout",
     "output_type": "stream",
     "text": [
      "[Original document]\n",
      "[Doc 200]: single scattering albedo is used to define scattering of electromagnetic waves on small particles it depends on properties of the material lrb refractive index rrb the size of the particle or particles and the wavelength of the incoming radiation\n",
      "\n",
      "[Most similar documents]\n",
      "-----------------\n",
      "similarity: 0.8602718114852905\n",
      "[Doc 154]: terrestrial albedo\n",
      "-----------------\n",
      "similarity: 0.8536304235458374\n",
      "[Doc 187]: water reflects light very differently from typical terrestrial materials the reflectivity of a water surface is calculated using the fresnel equations lrb see graph rrb\n",
      "-----------------\n",
      "similarity: 0.8468575477600098\n",
      "[Doc 148]: albedo lrb rrb or reflection coefficient derived from latin albedo whiteness lrb or reflected sunlight rrb in turn from albus white is the diffuse reflectivity or reflecting power of a surface\n"
     ]
    }
   ],
   "source": [
    "show_most_similar(model_dbow, list(docs), 200)"
   ]
  },
  {
   "cell_type": "markdown",
   "metadata": {},
   "source": [
    "## Prediction phase"
   ]
  },
  {
   "cell_type": "code",
   "execution_count": 19,
   "metadata": {},
   "outputs": [],
   "source": [
    "test_data_file = os.path.join(HOMEDIR, \"data/test_docs.txt\")"
   ]
  },
  {
   "cell_type": "code",
   "execution_count": 21,
   "metadata": {},
   "outputs": [],
   "source": [
    "# read test data: each line into a list of tokens\n",
    "with open(test_data_file, \"r\") as f:\n",
    "    test_docs = [ x.strip().split() for x in f.readlines() ]"
   ]
  },
  {
   "cell_type": "code",
   "execution_count": 22,
   "metadata": {},
   "outputs": [],
   "source": [
    "# inference hyper-parameters\n",
    "start_alpha=0.01\n",
    "infer_epoch=1000"
   ]
  },
  {
   "cell_type": "markdown",
   "metadata": {},
   "source": [
    "Create the embeddings for the test documents. Remember: this is an inference step that actually trains a network."
   ]
  },
  {
   "cell_type": "code",
   "execution_count": 24,
   "metadata": {},
   "outputs": [],
   "source": [
    "test_docvecs = [model_dm.infer_vector(d, alpha=start_alpha, steps=infer_epoch) for d in test_docs]"
   ]
  },
  {
   "cell_type": "code",
   "execution_count": 26,
   "metadata": {},
   "outputs": [
    {
     "data": {
      "text/plain": [
       "array([ -3.34543269e-03,  -2.02659750e-04,   1.83269521e-03,\n",
       "        -3.59125179e-03,  -9.58812714e-04,   1.32690510e-03,\n",
       "         6.83834252e-04,   3.22495471e-03,  -2.63553765e-03,\n",
       "        -1.47204555e-03,  -4.05679084e-03,   1.71870308e-03,\n",
       "        -1.93525094e-03,   2.16521672e-03,  -2.87479197e-04,\n",
       "         3.72954877e-03,  -1.40604109e-03,  -3.12495627e-04,\n",
       "        -1.19268964e-03,  -4.41035285e-04,  -8.22708884e-04,\n",
       "        -3.64960084e-04,  -7.37239316e-04,  -1.07299641e-03,\n",
       "        -2.10524863e-03,   3.84913268e-03,   2.21801433e-03,\n",
       "        -7.07347237e-04,  -7.95700529e-04,  -3.16595496e-03,\n",
       "        -1.02289414e-04,   5.83516376e-04,  -2.63492903e-03,\n",
       "        -1.08312233e-03,  -1.02029741e-03,   3.78575549e-03,\n",
       "         1.45962683e-03,   2.54141851e-05,   1.38039165e-03,\n",
       "        -1.80106028e-03,  -1.61020248e-03,   6.55168667e-04,\n",
       "         3.43498797e-03,   1.07691984e-03,  -5.28099656e-04,\n",
       "         3.18728294e-03,  -1.71532412e-03,  -1.34388974e-03,\n",
       "        -1.91890911e-04,   4.45759669e-03,   5.26775490e-04,\n",
       "         1.25140662e-03,  -1.93653291e-03,   2.66348454e-03,\n",
       "        -1.74398592e-03,  -7.47502490e-04,  -2.08818447e-03,\n",
       "         1.15749739e-04,   2.50685937e-03,   1.58320717e-03,\n",
       "         9.04552697e-04,   1.47760892e-03,  -9.75116971e-04,\n",
       "         7.03695347e-04,  -3.71996895e-03,  -1.48632549e-04,\n",
       "         8.99205566e-04,  -3.64923291e-03,  -1.20072870e-03,\n",
       "         2.57806212e-04,   6.51238079e-05,   1.99532299e-03,\n",
       "        -3.93685047e-03,   3.49444104e-03,  -2.42813234e-03,\n",
       "         5.92366559e-04,  -9.96877206e-04,  -4.23693389e-04,\n",
       "        -2.30978942e-03,   1.67324184e-03,  -4.64464014e-04,\n",
       "         1.04905246e-03,   8.51455552e-04,   3.84659972e-03,\n",
       "        -2.16047955e-03,   4.07303072e-04,  -6.47031004e-04,\n",
       "         4.30193380e-04,  -3.83852189e-03,  -2.41624913e-03,\n",
       "         4.47777985e-03,   3.73746559e-04,  -1.77153022e-04,\n",
       "         3.16553749e-03,   1.45281979e-03,  -3.13482923e-03,\n",
       "        -6.63394050e-04,   2.86626839e-03,   1.16678036e-03,\n",
       "        -5.87538352e-06,   1.33400341e-03,  -1.19022770e-04,\n",
       "         1.88449238e-04,  -3.21536325e-04,  -6.26780908e-04,\n",
       "        -4.63506803e-05,   2.78009498e-03,   1.95933855e-03,\n",
       "         1.52105966e-03,  -8.61676876e-04,   2.63746042e-04,\n",
       "         2.58587021e-03,  -3.19621759e-03,  -1.52578403e-03,\n",
       "         1.96350552e-03,   7.00956385e-04,  -6.19099184e-04,\n",
       "        -2.24512583e-03,  -1.32673551e-04,   1.73935923e-03,\n",
       "        -2.15891516e-03,  -2.09864904e-03,   2.26438278e-03,\n",
       "        -3.06691672e-03,   3.41129460e-04,   3.66919325e-03,\n",
       "         3.03318119e-03,   2.63566943e-03,  -1.04146078e-03,\n",
       "         4.45087999e-03,   3.08901625e-04,  -3.19249392e-03,\n",
       "         3.11900687e-04,   3.38713010e-03,   1.34903286e-03,\n",
       "        -1.49399776e-03,  -7.62923388e-04,  -5.85624133e-04,\n",
       "         2.23552063e-03,  -3.42310406e-03,   3.47425113e-04,\n",
       "        -3.30941053e-04,  -5.56916511e-03,  -1.12819183e-03,\n",
       "        -7.16306618e-04,  -2.84349918e-03,   4.25079110e-04,\n",
       "        -4.32323338e-03,   1.38957624e-03,   7.72928703e-04,\n",
       "         2.32240581e-03,  -6.84116210e-04,  -5.00536116e-04,\n",
       "         9.23422805e-04,  -3.01561877e-03,  -1.25944513e-04,\n",
       "         6.60255842e-04,   1.13561482e-03,   1.26384560e-03,\n",
       "        -9.14116798e-04,  -3.33085004e-03,  -1.31950219e-04,\n",
       "         2.64760922e-04,   1.68500061e-04,  -1.28612982e-03,\n",
       "         2.31888611e-03,  -2.73393583e-04,  -1.60417971e-04,\n",
       "        -2.71645677e-03,   1.55136990e-03,  -1.65851356e-03,\n",
       "        -2.96527200e-04,  -4.98585403e-03,  -3.39294388e-03,\n",
       "        -6.21876039e-04,  -2.66665197e-03,   1.36787794e-03,\n",
       "         1.24920474e-03,   4.51689484e-05,   3.25910019e-04,\n",
       "         2.23417836e-03,   2.43333098e-03,   3.01448116e-03,\n",
       "        -9.32812516e-04,  -2.50651524e-03,   2.61605339e-04,\n",
       "        -6.00697531e-04,   1.21190438e-04,  -3.76869102e-05,\n",
       "        -3.44622735e-04,   2.35535484e-03,   5.00908413e-04,\n",
       "         1.01548247e-03,   1.61165954e-03,  -8.98663944e-04,\n",
       "        -3.02478299e-03,  -5.80622058e-04,  -1.26242603e-03,\n",
       "        -3.30507901e-05,  -6.38836762e-04], dtype=float32)"
      ]
     },
     "execution_count": 26,
     "metadata": {},
     "output_type": "execute_result"
    }
   ],
   "source": [
    "# see what one document embedding looks like\n",
    "test_docvecs[0]"
   ]
  },
  {
   "cell_type": "markdown",
   "metadata": {},
   "source": [
    "### The excercise continues in the next notebook!"
   ]
  }
 ],
 "metadata": {
  "kernelspec": {
   "display_name": "Python 3",
   "language": "python",
   "name": "python3"
  },
  "language_info": {
   "codemirror_mode": {
    "name": "ipython",
    "version": 3
   },
   "file_extension": ".py",
   "mimetype": "text/x-python",
   "name": "python",
   "nbconvert_exporter": "python",
   "pygments_lexer": "ipython3",
   "version": "3.5.4"
  }
 },
 "nbformat": 4,
 "nbformat_minor": 2
}
